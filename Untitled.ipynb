{
 "cells": [
  {
   "cell_type": "code",
   "execution_count": 1,
   "metadata": {},
   "outputs": [],
   "source": [
    "from bs4 import BeautifulSoup\n",
    "import requests\n"
   ]
  },
  {
   "cell_type": "code",
   "execution_count": 86,
   "metadata": {},
   "outputs": [
    {
     "data": {
      "text/plain": [
       "{'title': '机器学习及其应用2009',\n",
       " 'abstract': '机器学习是人工智能的一个核心研究领域,也是近年来计算机科学中最活跃的研究分支之一.目前,机器学习技术不仅在计算机科学的众多领域中大显身手,还成为一些交叉学科的重要支撑技术.本书邀请相关领域的专家撰文,以综述的形式介绍机器学习中一些领域的研究进展.全书共分10章,内容涉及正则化,Boosting,聚类分析,因果发现,维数削减,强化学习,迁移学习,流形学习,多示例多标记学习等.',\n",
       " 'author': '周志华，王珏',\n",
       " 'keywords': ['机器学习']}"
      ]
     },
     "execution_count": 86,
     "metadata": {},
     "output_type": "execute_result"
    }
   ],
   "source": [
    "import json\n",
    "# f=open(\"result2.json\",\"w\",encoding=\"gbk\")\n",
    "# l=json.load(f)\n",
    "# l= []\n",
    "# result=dict()\n",
    "# result[\"a\"]=\"你好\"\n",
    "# l.append(result)\n",
    "# l.append(result)\n",
    "# with open(\"result2.json\",\"w\",encoding=\"gbk\") as f:\n",
    "#     json.dump(l,f,ensure_ascii=False)\n",
    "fp=open(\"result2.json\",\"r\",encoding=\"gbk\")\n",
    "result=json.load(fp)\n",
    "result[10]"
   ]
  },
  {
   "cell_type": "code",
   "execution_count": 98,
   "metadata": {},
   "outputs": [
    {
     "data": {
      "text/plain": [
       "'<html lang=\"zh-CN\"><head>\\\\n    <meta charset=\"utf-8\">\\\\n    <title>\\\\xe7\\\\x99\\\\xbe\\\\xe5\\\\xba\\\\xa6\\\\xe5\\\\xae\\\\x89\\\\xe5\\\\x85\\\\xa8\\\\xe9\\\\xaa\\\\x8c\\\\xe8\\\\xaf\\\\x81</title>\\\\n    <meta http-equiv=\"Content-Type\" content=\"text/html; charset=utf-8\">\\\\n    <meta name=\"apple-mobile-web-app-capable\" content=\"yes\">\\\\n    <meta name=\"apple-mobile-web-app-status-bar-style\" content=\"black\">\\\\n    <meta name=\"viewport\" content=\"width=device-width, user-scalable=no, initial-scale=1.0, minimum-scale=1.0, maximum-scale=1.0\">\\\\n    <meta name=\"format-detection\" content=\"telephone=no, email=no\">\\\\n    <link rel=\"shortcut icon\" href=\"https://www.baidu.com/favicon.ico\" type=\"image/x-icon\">\\\\n    <link rel=\"icon\" sizes=\"any\" mask=\"\" href=\"https://www.baidu.com/img/baidu.svg\">\\\\n    <meta http-equiv=\"X-UA-Compatible\" content=\"IE=Edge\">\\\\n    <meta http-equiv=\"Content-Security-Policy\" content=\"upgrade-insecure-requests\">\\\\n    <link rel=\"stylesheet\" href=\"https://wappass.bdimg.com/static/touch/css/api/mkdjump_8befa48.css\">\\\\n<link rel=\"stylesheet\" type=\"text/css\" href=\"https://wappass.baidu.com/static/machine/css/api/mkd_7fa0033.css\"></head>\\\\n<body style=\"\">\\\\n    <div class=\"timeout hide\">\\\\n        <div class=\"timeout-img\"></div>\\\\n        <div class=\"timeout-title\">\\\\xe7\\\\xbd\\\\x91\\\\xe7\\\\xbb\\\\x9c\\\\xe4\\\\xb8\\\\x8d\\\\xe7\\\\xbb\\\\x99\\\\xe5\\\\x8a\\\\x9b\\\\xef\\\\xbc\\\\x8c\\\\xe8\\\\xaf\\\\xb7\\\\xe7\\\\xa8\\\\x8d\\\\xe5\\\\x90\\\\x8e\\\\xe9\\\\x87\\\\x8d\\\\xe8\\\\xaf\\\\x95</div>\\\\n        <button type=\"button\" class=\"timeout-button\">\\\\xe8\\\\xbf\\\\x94\\\\xe5\\\\x9b\\\\x9e\\\\xe9\\\\xa6\\\\x96\\\\xe9\\\\xa1\\\\xb5</button>\\\\n    </div>\\\\n    <div class=\"timeout-feedback hide\">\\\\n        <div class=\"timeout-feedback-icon\"></div>\\\\n        <p class=\"timeout-feedback-title\">\\\\xe9\\\\x97\\\\xae\\\\xe9\\\\xa2\\\\x98\\\\xe5\\\\x8f\\\\x8d\\\\xe9\\\\xa6\\\\x88</p>\\\\n    </div>\\\\n\\\\n<script src=\"https://wappass.baidu.com/static/machine/js/api/mkd.js\"></script>\\\\n<script src=\"https://wappass.bdimg.com/static/touch/js/mkdjump_1448d18.js\"></script>\\\\n\\\\n</body></html>'"
      ]
     },
     "execution_count": 98,
     "metadata": {},
     "output_type": "execute_result"
    }
   ],
   "source": [
    "with open(\"2.html\",\"r\",encoding=\"gbk\") as f:\n",
    "    content = f.read()\n",
    "content"
   ]
  },
  {
   "cell_type": "code",
   "execution_count": 37,
   "metadata": {},
   "outputs": [],
   "source": [
    "\n",
    "with open(\"1.html\",\"r\",encoding=\"utf-8\") as f:\n",
    "    content = f.read()\n",
    "soup = BeautifulSoup(content,'lxml')\n"
   ]
  },
  {
   "cell_type": "code",
   "execution_count": 38,
   "metadata": {},
   "outputs": [
    {
     "data": {
      "text/plain": [
       "'/s?wd=%E6%9C%BA%E5%99%A8%E5%AD%A6%E4%B9%A0&pn=10&tn=SE_baiduxueshu_c1gjeupa&ie=utf-8&sc_f_para=sc_tasktype%3D%7BfirstSimpleSearch%7D&sc_hit=1&rsv_page=1'"
      ]
     },
     "execution_count": 38,
     "metadata": {},
     "output_type": "execute_result"
    }
   ],
   "source": [
    "soup.find_all(\"a\", class_=\"n\")[0][\"href\"]"
   ]
  },
  {
   "cell_type": "code",
   "execution_count": 8,
   "metadata": {},
   "outputs": [
    {
     "name": "stdout",
     "output_type": "stream",
     "text": [
      " http://xueshu.baidu.com/usercenter/paper/show?paperid=033218b8c936a4a1ad2a1e06875bea11&site=xueshu_se\n",
      " http://xueshu.baidu.com/usercenter/paper/show?paperid=0e6aa93d676d434d32338763c3ffef7a&site=xueshu_se\n",
      " http://xueshu.baidu.com/usercenter/paper/show?paperid=624fa1d533c38e890d0a214bd1c2faba&site=xueshu_se\n",
      " http://xueshu.baidu.com/usercenter/paper/show?paperid=6bbec3b8346b844d306eceeaedb420c0&site=xueshu_se\n",
      " http://xueshu.baidu.com/usercenter/paper/show?paperid=f346fc1e0001f3459db90fdd689c27bf&site=xueshu_se\n",
      " http://xueshu.baidu.com/usercenter/paper/show?paperid=2226686f009d7df75daee53447a54ba5&site=xueshu_se\n",
      " http://xueshu.baidu.com/usercenter/paper/show?paperid=0aba4c637e267c385fe51ea3122f3885&site=xueshu_se\n",
      " http://xueshu.baidu.com/usercenter/paper/show?paperid=9911ec2ed7c09202fdd92c39fce1ad6d&site=xueshu_se\n",
      " http://xueshu.baidu.com/usercenter/paper/show?paperid=26d5345d557b58153c4bb6e99ff624c4&site=xueshu_se\n",
      " http://xueshu.baidu.com/usercenter/paper/show?paperid=634c93ea14a470b6fd2b1a77806d7d8d&site=xueshu_se\n"
     ]
    }
   ],
   "source": [
    "c_fonts = soup.find_all(\"h3\", class_=\"t c_font\")\n",
    "for c_font in c_fonts:\n",
    "     url = \" http://\"+c_font.find(\"a\").attrs[\"href\"][2:]\n",
    "     print(url)"
   ]
  },
  {
   "cell_type": "code",
   "execution_count": 87,
   "metadata": {},
   "outputs": [],
   "source": [
    "url = \"https://xueshu.baidu.com/usercenter/paper/show?paperid=0e6aa93d676d434d32338763c3ffef7a&site=xueshu_se\"\n",
    "content_details = requests.get(url)\n",
    "soup = BeautifulSoup(content_details.text, \"lxml\")"
   ]
  },
  {
   "cell_type": "code",
   "execution_count": 88,
   "metadata": {},
   "outputs": [
    {
     "data": {
      "text/plain": [
       "'吴涛，张铃，张燕平'"
      ]
     },
     "execution_count": 88,
     "metadata": {},
     "output_type": "execute_result"
    }
   ],
   "source": [
    "soup.find_all(\"p\",class_=\"author_text\")[0].get_text().strip()"
   ]
  },
  {
   "cell_type": "code",
   "execution_count": 89,
   "metadata": {},
   "outputs": [
    {
     "data": {
      "text/plain": [
       "'机器学习中的核覆盖算法'"
      ]
     },
     "execution_count": 89,
     "metadata": {},
     "output_type": "execute_result"
    }
   ],
   "source": [
    "''.join(list(soup.select('#dtl_l > div > h3 > a')[0].stripped_strings))"
   ]
  },
  {
   "cell_type": "code",
   "execution_count": 90,
   "metadata": {},
   "outputs": [
    {
     "data": {
      "text/plain": [
       "'\\n\\n        机器学习中的核覆盖算法\\n    \\n'"
      ]
     },
     "execution_count": 90,
     "metadata": {},
     "output_type": "execute_result"
    }
   ],
   "source": [
    "soup.find_all(\"div\",class_=\"main-info\")[0].h3.text\n"
   ]
  },
  {
   "cell_type": "code",
   "execution_count": 91,
   "metadata": {},
   "outputs": [
    {
     "data": {
      "text/plain": [
       "'基于统计学习理论的支持向量机(SVM)方法在样本空间或特征空间构造最优分类超平面解决了分类器的构造问题,但其本质是二分类的,且核函数中的参数难以确定,计算复杂性高.构造性学习算法根据训练样本构造性地设计分类网络,运行效率高,便于处理多分类问题,但存在所得的分界面零乱,测试计算量大的缺点.该文将SVM中的核函数法与构造性学习的覆盖算法相融合,给出一种新的核覆盖算法.新算法克服了以上两种模型的缺点,具有运算速度快,精度高,鲁棒性强的优点.其次,文中给出风险误差上界与覆盖个数的关系.最后给出实验模拟,模拟结果证明了新方法的优越性.'"
      ]
     },
     "execution_count": 91,
     "metadata": {},
     "output_type": "execute_result"
    }
   ],
   "source": [
    "soup.find_all(\"p\",class_=\"abstract\")[0].get_text().strip()"
   ]
  },
  {
   "cell_type": "code",
   "execution_count": 96,
   "metadata": {},
   "outputs": [
    {
     "data": {
      "text/plain": [
       "['核覆盖算法', '融合', '机器学习', '支持向量机', '构造性算法']"
      ]
     },
     "execution_count": 96,
     "metadata": {},
     "output_type": "execute_result"
    }
   ],
   "source": [
    "list(soup.find_all(\"p\",class_=\"kw_main\")[0].stripped_strings)"
   ]
  },
  {
   "cell_type": "code",
   "execution_count": 95,
   "metadata": {},
   "outputs": [
    {
     "data": {
      "text/plain": [
       "['核覆盖算法', '融合', '机器学习', '支持向量机', '构造性算法']"
      ]
     },
     "execution_count": 95,
     "metadata": {},
     "output_type": "execute_result"
    }
   ],
   "source": [
    "def has_six_characters(css_class):\n",
    "    return css_class is not None and str(css_class) == \"kw_main_s\"\n",
    "list(soup.find_all(\"p\",attrs={\"data-click\":\"{\\'button_tp\\':\\'keyword\\'}\"})[0].stripped_strings)"
   ]
  }
 ],
 "metadata": {
  "kernelspec": {
   "display_name": "spdier",
   "language": "python",
   "name": "env_name"
  },
  "language_info": {
   "codemirror_mode": {
    "name": "ipython",
    "version": 3
   },
   "file_extension": ".py",
   "mimetype": "text/x-python",
   "name": "python",
   "nbconvert_exporter": "python",
   "pygments_lexer": "ipython3",
   "version": "3.6.12"
  },
  "varInspector": {
   "cols": {
    "lenName": 16,
    "lenType": 16,
    "lenVar": 40
   },
   "kernels_config": {
    "python": {
     "delete_cmd_postfix": "",
     "delete_cmd_prefix": "del ",
     "library": "var_list.py",
     "varRefreshCmd": "print(var_dic_list())"
    },
    "r": {
     "delete_cmd_postfix": ") ",
     "delete_cmd_prefix": "rm(",
     "library": "var_list.r",
     "varRefreshCmd": "cat(var_dic_list()) "
    }
   },
   "types_to_exclude": [
    "module",
    "function",
    "builtin_function_or_method",
    "instance",
    "_Feature"
   ],
   "window_display": false
  }
 },
 "nbformat": 4,
 "nbformat_minor": 4
}
